{
  "nbformat": 4,
  "nbformat_minor": 0,
  "metadata": {
    "colab": {
      "provenance": [],
      "authorship_tag": "ABX9TyMU2TzxbwsSoKqjirNoG0C/",
      "include_colab_link": true
    },
    "kernelspec": {
      "name": "python3",
      "display_name": "Python 3"
    },
    "language_info": {
      "name": "python"
    }
  },
  "cells": [
    {
      "cell_type": "markdown",
      "metadata": {
        "id": "view-in-github",
        "colab_type": "text"
      },
      "source": [
        "<a href=\"https://colab.research.google.com/github/Merita24/100daysofcode/blob/main/higher_order_functions.ipynb\" target=\"_parent\"><img src=\"https://colab.research.google.com/assets/colab-badge.svg\" alt=\"Open In Colab\"/></a>"
      ]
    },
    {
      "cell_type": "code",
      "execution_count": null,
      "metadata": {
        "id": "lrKONwD5Qcfd"
      },
      "outputs": [],
      "source": [
        "#higher order functions\n",
        "\n",
        "#Given a list of numbers, use filter() to keep only the prime numbers.\n",
        "\n",
        "#Use reduce() to find the longest word in a list of strings.\n",
        "import functools\n",
        "words=[\"python\", \"java\", \"javascript\", \"c\"]\n",
        "result=functools.reduce(lambda x,y:x if len(x)>len(y) else y,words)\n",
        "print(result)\n",
        "\n",
        "#Use reduce() to multiply all numbers in a list.\n",
        "#I am choosing to use range(20)\n",
        "num=range(10)\n",
        "prod=functools.reduce(lambda x,y:x*y,num)\n",
        "print(prod)\n",
        "\n",
        "#Use reduce() to find the maximum number in a list.\n",
        "numbers= [5, 12, 7, 20, 3]\n",
        "max_num=functools.reduce(lambda x,y:x if x>y else y,numbers)\n",
        "print(max_num)\n",
        "\n",
        "# Convert a list of numbers to strings using map\n",
        "a=[1,2,3,4,5]\n",
        "a_to_string=map(str,a)\n",
        "print(list(a_to_string))\n",
        "\n",
        "#Given a list of dictionaries representing people, use map() to extract only their names.\n",
        "people = [{\"name\": \"Alice\", \"age\": 25}, {\"name\": \"Bob\", \"age\": 30}, {\"name\": \"Charlie\", \"age\": 35}]\n",
        "\n",
        "\n",
        "#You have a list of dictionaries representing items, each with a \"price\" and \"quantity\".\n",
        "#Use map() to calculate the total cost for each item, then use reduce() to sum up all the costs.\n",
        "items = [{\"price\": 10, \"quantity\": 2}, {\"price\": 5, \"quantity\": 3}, {\"price\": 8, \"quantity\": 1}]\n",
        "total_cost=map(lambda x:x[\"price\"]*[\"quantity\"],items)\n",
        "print(list(total_cost))\n",
        "total_cost=functools.reduce(lambda x,y:x+y,total_cost)\n",
        "print(total_cost)\n",
        "\n"
      ]
    }
  ]
}