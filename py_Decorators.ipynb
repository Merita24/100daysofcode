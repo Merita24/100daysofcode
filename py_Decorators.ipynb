{
  "nbformat": 4,
  "nbformat_minor": 0,
  "metadata": {
    "colab": {
      "provenance": [],
      "authorship_tag": "ABX9TyON0D8eWNL6l5RayIqUwovQ",
      "include_colab_link": true
    },
    "kernelspec": {
      "name": "python3",
      "display_name": "Python 3"
    },
    "language_info": {
      "name": "python"
    }
  },
  "cells": [
    {
      "cell_type": "markdown",
      "metadata": {
        "id": "view-in-github",
        "colab_type": "text"
      },
      "source": [
        "<a href=\"https://colab.research.google.com/github/Merita24/100daysofcode/blob/main/py_Decorators.ipynb\" target=\"_parent\"><img src=\"https://colab.research.google.com/assets/colab-badge.svg\" alt=\"Open In Colab\"/></a>"
      ]
    },
    {
      "cell_type": "code",
      "execution_count": 8,
      "metadata": {
        "id": "9W0auJ28_v00",
        "colab": {
          "base_uri": "https://localhost:8080/",
          "height": 211
        },
        "outputId": "781dfc34-1e89-42cd-a843-37fb0cc3c971"
      },
      "outputs": [
        {
          "output_type": "error",
          "ename": "TypeError",
          "evalue": "'NoneType' object is not callable",
          "traceback": [
            "\u001b[0;31m---------------------------------------------------------------------------\u001b[0m",
            "\u001b[0;31mTypeError\u001b[0m                                 Traceback (most recent call last)",
            "\u001b[0;32m<ipython-input-8-da3dc4443005>\u001b[0m in \u001b[0;36m<cell line: 0>\u001b[0;34m()\u001b[0m\n\u001b[1;32m     86\u001b[0m     \u001b[0;32mreturn\u001b[0m \u001b[0mdecorator\u001b[0m\u001b[0;34m\u001b[0m\u001b[0;34m\u001b[0m\u001b[0m\n\u001b[1;32m     87\u001b[0m \u001b[0;34m\u001b[0m\u001b[0m\n\u001b[0;32m---> 88\u001b[0;31m \u001b[0;34m@\u001b[0m\u001b[0mretry_func\u001b[0m\u001b[0;34m(\u001b[0m\u001b[0mmax_retries\u001b[0m\u001b[0;34m=\u001b[0m\u001b[0;36m3\u001b[0m\u001b[0;34m)\u001b[0m\u001b[0;34m\u001b[0m\u001b[0;34m\u001b[0m\u001b[0m\n\u001b[0m\u001b[1;32m     89\u001b[0m \u001b[0;32mdef\u001b[0m \u001b[0menter_password\u001b[0m\u001b[0;34m(\u001b[0m\u001b[0;34m)\u001b[0m\u001b[0;34m:\u001b[0m\u001b[0;34m\u001b[0m\u001b[0;34m\u001b[0m\u001b[0m\n\u001b[1;32m     90\u001b[0m   \u001b[0mpassword\u001b[0m\u001b[0;34m=\u001b[0m\u001b[0minput\u001b[0m\u001b[0;34m(\u001b[0m\u001b[0;34m\"Enter your password\"\u001b[0m\u001b[0;34m)\u001b[0m\u001b[0;34m\u001b[0m\u001b[0;34m\u001b[0m\u001b[0m\n",
            "\u001b[0;31mTypeError\u001b[0m: 'NoneType' object is not callable"
          ]
        }
      ],
      "source": [
        "\n",
        "#decorators extend the functionality of another function\n",
        "def add_message(func):\n",
        "  def wrapper():\n",
        "    print(\"Tafadhali dada, hii ni wrong number!\")\n",
        "  return wrapper\n",
        "\n",
        "@add_message\n",
        "def hello():\n",
        "  print(\"Hello hello nataka kuongea na Mariko\")\n",
        "\n",
        "#Write a Python program to create a decorator function to measure the execution time of a function\n",
        "#Since we don’t know what arguments the original function will receive,\n",
        "#using *args and **kwargs ensures our decorator works for any function, no matter its parameters.\n",
        "import time\n",
        "def measure_time(func):\n",
        "  def wrapper(*args, **kwargs):\n",
        "    start_time=time.time()\n",
        "    result=func(*args, **kwargs)\n",
        "    end_time=time.time()\n",
        "    exec_time=end_time-start_time\n",
        "    print(f\"The function requires {exec_time} to run.\")\n",
        "    return result\n",
        "  return wrapper\n",
        "\n",
        "\n",
        "\n",
        "@measure_time\n",
        "def add_num(x,y):\n",
        "  return(x+y)\n",
        "\n",
        "result=add_num(5,10)\n",
        "print(result)\n",
        "\n",
        "#Write a Python program that handles exceptions raised by a function\n",
        "def handle_exception(func):\n",
        "  def wrapper(*args, **kwargs):\n",
        "    try:\n",
        "      result=func(*args, **kwargs)\n",
        "      return result\n",
        "    except Exception as e:\n",
        "      print(f\"An error occurred: {e}\")\n",
        "      return None\n",
        "  return wrapper\n",
        "\n",
        "#Create a decorator that converts a function’s return value to uppercase.\n",
        "def upper_deco(func):\n",
        "  def wrapper(*args, **kwargs):\n",
        "    result=func(*args,**kwargs)\n",
        "    return result.upper()\n",
        "  return wrapper\n",
        "\n",
        "@upper_deco\n",
        "def hello(x):\n",
        "  return f\"hello {x}\"\n",
        "\n",
        "hello(\"Kittycat\")\n",
        "\n",
        "#Create a decorator that checks if function arguments are positive numbers and raises an error if not.\n",
        "def check_positive(func):\n",
        "  def wrapper(*args, **kwargs):\n",
        "    if all(arg >0 for arg in args):\n",
        "      return func(*args,**kwargs)\n",
        "    else:\n",
        "        raise ValueError(\"All arguments must be positive numbers\")\n",
        "  return wrapper\n",
        "\n",
        "\n",
        "@check_positive\n",
        "def div_num(x,y):\n",
        "  return x/y\n",
        "\n",
        "\n",
        "div_num(4,2)\n",
        "\n",
        "\n",
        "def retry_func(max_retries=3):\n",
        "    def decorator(func):\n",
        "        def wrapper(*args, **kwargs):\n",
        "            attempts = 0\n",
        "            while attempts < max_retries:\n",
        "                try:\n",
        "                    return func(*args, **kwargs)  # Try running the function\n",
        "                except Exception as e:  # Handle any exception\n",
        "                    print(f\"Attempt {attempts + 1} failed: {e}\")\n",
        "                attempts += 1  # Increment attempt counter\n",
        "            raise Exception(\"Maximum tries reached!\")  # Raise error after max retries\n",
        "        return wrapper\n",
        "    return decorator\n",
        "\n",
        "@retry_func(3)  # Correctly passing max_retries\n",
        "def enter_password():\n",
        "    password = input(\"Enter your password: \")\n",
        "    if password != \"kittens\":\n",
        "        print(\"Incorrect password, try again!\")\n",
        "        raise ValueError(\"Wrong password!\")  # Raising an error to trigger retry\n",
        "    print(\"Access granted!\")  # Correct password\n",
        "\n",
        "# Call the function\n",
        "enter_password()\n"
      ]
    }
  ]
}