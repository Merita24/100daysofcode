{
  "nbformat": 4,
  "nbformat_minor": 0,
  "metadata": {
    "colab": {
      "provenance": [],
      "authorship_tag": "ABX9TyMfUZ5PqTVc7op4Q1rdh0mW",
      "include_colab_link": true
    },
    "kernelspec": {
      "name": "python3",
      "display_name": "Python 3"
    },
    "language_info": {
      "name": "python"
    }
  },
  "cells": [
    {
      "cell_type": "markdown",
      "metadata": {
        "id": "view-in-github",
        "colab_type": "text"
      },
      "source": [
        "<a href=\"https://colab.research.google.com/github/Merita24/100daysofcode/blob/main/py_Decorators.ipynb\" target=\"_parent\"><img src=\"https://colab.research.google.com/assets/colab-badge.svg\" alt=\"Open In Colab\"/></a>"
      ]
    },
    {
      "cell_type": "code",
      "execution_count": null,
      "metadata": {
        "id": "9W0auJ28_v00"
      },
      "outputs": [],
      "source": [
        "\n",
        "#decorators extend the functionality of another function\n",
        "'''def add_message(func):\n",
        "  def wrapper():\n",
        "    print(\"Tafadhali dada, hii ni wrong number!\")\n",
        "  return wrapper\n",
        "\n",
        "@add_message\n",
        "def hello():\n",
        "  print(\"Hello hello nataka kuongea na Mariko\")'''\n",
        "\n",
        "#Write a Python program to create a decorator function to measure the execution time of a function\n",
        "#Since we don’t know what arguments the original function will receive,\n",
        "#using *args and **kwargs ensures our decorator works for any function, no matter its parameters.\n",
        "import time\n",
        "def measure_time(func):\n",
        "  def wrapper(*args, **kwargs):\n",
        "    start_time=time.time()\n",
        "    result=func(*args, **kwargs)\n",
        "    end_time=time.time()\n",
        "    exec_time=end_time-start_time\n",
        "    print(f\"The function requires {exec_time} to run.\")\n",
        "    return result\n",
        "  return wrapper\n",
        "\n",
        "\n",
        "\n",
        "@measure_time\n",
        "def add_num(x,y):\n",
        "  return(x+y)\n",
        "\n",
        "result=add_num(5,10)\n",
        "print(result)\n",
        "\n",
        "#Write a Python program that implements a decorator to validate function arguments based on a given condition\n",
        "def valid_args()\n",
        "\n"
      ]
    }
  ]
}