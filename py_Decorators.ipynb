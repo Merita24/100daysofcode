{
  "nbformat": 4,
  "nbformat_minor": 0,
  "metadata": {
    "colab": {
      "provenance": [],
      "authorship_tag": "ABX9TyPa+tRNZgT2jpaOk0bLbHuI",
      "include_colab_link": true
    },
    "kernelspec": {
      "name": "python3",
      "display_name": "Python 3"
    },
    "language_info": {
      "name": "python"
    }
  },
  "cells": [
    {
      "cell_type": "markdown",
      "metadata": {
        "id": "view-in-github",
        "colab_type": "text"
      },
      "source": [
        "<a href=\"https://colab.research.google.com/github/Merita24/100daysofcode/blob/main/py_Decorators.ipynb\" target=\"_parent\"><img src=\"https://colab.research.google.com/assets/colab-badge.svg\" alt=\"Open In Colab\"/></a>"
      ]
    },
    {
      "cell_type": "code",
      "execution_count": null,
      "metadata": {
        "id": "9W0auJ28_v00"
      },
      "outputs": [],
      "source": [
        "\n",
        "#decorators extend the functionality of another function\n",
        "def add_message(func):\n",
        "  def wrapper():\n",
        "    print(\"Hello world!\")\n",
        "  return wrapper\n",
        "\n",
        "@add_message\n",
        "def hello():\n",
        "  print(\"Hello hello hello!\")\n",
        "\n",
        "#Write a Python program to create a decorator function to measure the execution time of a function\n",
        "#Since we don’t know what arguments the original function will receive,\n",
        "#using *args and **kwargs ensures our decorator works for any function, no matter its parameters.\n",
        "import time\n",
        "def measure_time(func):\n",
        "  def wrapper(*args, **kwargs):\n",
        "    start_time=time.time()\n",
        "    result=func(*args, **kwargs)\n",
        "    end_time=time.time()\n",
        "    exec_time=end_time-start_time\n",
        "    print(f\"The function requires {exec_time} to run.\")\n",
        "    return result\n",
        "  return wrapper\n",
        "\n",
        "\n",
        "\n",
        "@measure_time\n",
        "def add_num(x,y):\n",
        "  return(x+y)\n",
        "\n",
        "result=add_num(5,10)\n",
        "print(result)\n",
        "\n",
        "#Write a Python program that handles exceptions raised by a function\n",
        "def handle_exception(func):\n",
        "  def wrapper(*args, **kwargs):\n",
        "    try:\n",
        "      result=func(*args, **kwargs)\n",
        "      return result\n",
        "    except Exception as e:\n",
        "      print(f\"An error occurred: {e}\")\n",
        "      return None\n",
        "  return wrapper\n",
        "\n",
        "#Create a decorator that converts a function’s return value to uppercase.\n",
        "def upper_deco(func):\n",
        "  def wrapper(*args, **kwargs):\n",
        "    result=func(*args,**kwargs)\n",
        "    return result.upper()\n",
        "  return wrapper\n",
        "\n",
        "@upper_deco\n",
        "def hello(x):\n",
        "  return f\"hello {x}\"\n",
        "\n",
        "hello(\"Kittycat\")\n",
        "\n",
        "#Create a decorator that checks if function arguments are positive numbers and raises an error if not.\n",
        "def check_positive(func):\n",
        "  def wrapper(*args, **kwargs):\n",
        "    if all(arg >0 for arg in args):\n",
        "      return func(*args,**kwargs)\n",
        "    else:\n",
        "        raise ValueError(\"All arguments must be positive numbers\")\n",
        "  return wrapper\n",
        "\n",
        "\n",
        "@check_positive\n",
        "def div_num(x,y):\n",
        "  return x/y\n",
        "\n",
        "\n",
        "div_num(4,2)\n",
        "\n",
        "\n",
        "def limit_funct(max=3):\n",
        "  def decorator(func):\n",
        "    counter=0\n",
        "    def wrapper(*args,**kwargs):\n",
        "      nonlocal counter\n",
        "      if counter<max:\n",
        "        counter=counter+1\n",
        "        return func(*args,**kwargs)\n",
        "      else:\n",
        "        print(\"Function has reached it's limit!\")\n",
        "    return wrapper\n",
        "  return decorator\n",
        "\n",
        "@limit_funct(3)\n",
        "def mult_num(a,b):\n",
        "  return a*b\n",
        "\n",
        "print(mult_num(1,2))\n",
        "print(mult_num(4,2))\n",
        "print(mult_num(5,2))\n",
        "print(mult_num(9,2))\n",
        "\n"
      ]
    },
    {
      "cell_type": "code",
      "execution_count": 1,
      "metadata": {
        "id": "pIIx23eOYOgh",
        "colab": {
          "base_uri": "https://localhost:8080/"
        },
        "outputId": "4d651404-ea5e-4d0f-b559-e4b37d283af0"
      },
      "outputs": [
        {
          "output_type": "stream",
          "name": "stdout",
          "text": [
            "Access Denied!\n",
            "Access granted, Welcome!\n"
          ]
        }
      ],
      "source": [
        "#access control decorator\n",
        "def requires_auth(func):\n",
        "  def wrapper(*args,**kwargs):\n",
        "    password=kwargs.get('password')\n",
        "    if password=='opensesame':\n",
        "      return func(*args,**kwargs)\n",
        "    else:\n",
        "      print(\"Access Denied!\")\n",
        "  return wrapper\n",
        "  return requires_auth\n",
        "\n",
        "@requires_auth\n",
        "def user(password):\n",
        "  print(\"Access granted, Welcome!\")\n",
        "\n",
        "\n",
        "user(password='kittycat')\n",
        "user(password='opensesame')\n",
        "\n",
        "\n",
        "\n",
        "\n"
      ]
    },
    {
      "cell_type": "code",
      "execution_count": null,
      "metadata": {
        "colab": {
          "base_uri": "https://localhost:8080/"
        },
        "outputId": "91fbb659-d716-44cb-cc7f-07511a801dc9",
        "id": "ZxYpF7mxXtR9"
      },
      "outputs": [
        {
          "output_type": "stream",
          "name": "stdout",
          "text": [
            "Function can only run once!\n"
          ]
        }
      ],
      "source": [
        "#rate limiter function and decorator that allows a function to be called only once\n",
        "def rate_limiter(max_calls=1):\n",
        "  def decorator(func):\n",
        "    counter=0\n",
        "    def wrapper(*args,**kwargs):\n",
        "      nonlocal counter\n",
        "      if counter<max_calls:\n",
        "        counter=counter+1\n",
        "        return func(*args,**kwargs)\n",
        "      else:\n",
        "        print('Function can only run once!')\n",
        "    return wrapper\n",
        "  return decorator\n",
        "\n",
        "@rate_limiter(1)\n",
        "def floor_div(a,b):\n",
        "  return a//b\n",
        "\n",
        "\n",
        "floor_div(10,2)\n",
        "floor_div(12,6)\n",
        "\n",
        "\n",
        "\n"
      ]
    }
  ]
}