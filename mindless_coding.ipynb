{
  "nbformat": 4,
  "nbformat_minor": 0,
  "metadata": {
    "colab": {
      "provenance": [],
      "authorship_tag": "ABX9TyNtko/OWMLB4dNFenyySOdR",
      "include_colab_link": true
    },
    "kernelspec": {
      "name": "python3",
      "display_name": "Python 3"
    },
    "language_info": {
      "name": "python"
    }
  },
  "cells": [
    {
      "cell_type": "markdown",
      "metadata": {
        "id": "view-in-github",
        "colab_type": "text"
      },
      "source": [
        "<a href=\"https://colab.research.google.com/github/Merita24/100daysofcode/blob/main/mindless_coding.ipynb\" target=\"_parent\"><img src=\"https://colab.research.google.com/assets/colab-badge.svg\" alt=\"Open In Colab\"/></a>"
      ]
    },
    {
      "cell_type": "code",
      "execution_count": null,
      "metadata": {
        "id": "u5MmzP8iAI6T"
      },
      "outputs": [],
      "source": [
        "#coding for the sake of it especially when it's a slow day\n",
        "def factorial():\n",
        "  fact=1\n",
        "  num=int(input(\"Enter a number and I will calculate it's factorial:\"))\n",
        "  for i in range(1,num+1):\n",
        "    fact=fact*i\n",
        "  print(f\"the factorial is {fact}\")\n",
        "\n",
        "\n",
        "\n",
        "\n",
        "factorial()\n",
        "\n",
        "def sort_it_out():\n",
        "  list_of_num=[]\n",
        "  while len(list_of_num)<50:\n",
        "    numbers=int(input(\"Enter the elements for this list:\"))\n",
        "    list_of_num.append(numbers)\n",
        "  print(\"List is at capacity\")\n",
        "  n=len(list_of_num)\n",
        "  for i in range(n):\n",
        "    swapped=False\n",
        "    for j in range(0,n-i-1):\n",
        "      if list_of_num[j]>list_of_num[j+1]:\n",
        "        list_of_num[j],list_of_num[j+1]=list_of_num[j+1],list_of_num[j]\n",
        "        swapped=True\n",
        "    if not swapped:\n",
        "      break\n",
        "  print(f\"The sorted list is{list_of_num}\")\n",
        "  print(f\"The maximum element is:{list_of_num[-1]}\")\n",
        "  print(f\"The minimum element is :{list_of_num[0]}\")\n",
        "\n"
      ]
    }
  ]
}